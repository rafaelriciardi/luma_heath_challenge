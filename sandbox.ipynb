{
 "cells": [
  {
   "cell_type": "markdown",
   "id": "88b7b642",
   "metadata": {},
   "source": [
    "# Conversational AI Back-End Service\n",
    "\n",
    "This is a sandbox notebook for developing and testing solutions for each step of the exercise before going to the final production ready code."
   ]
  },
  {
   "cell_type": "code",
   "execution_count": 26,
   "id": "185e4137",
   "metadata": {},
   "outputs": [
    {
     "data": {
      "text/plain": [
       "True"
      ]
     },
     "execution_count": 26,
     "metadata": {},
     "output_type": "execute_result"
    }
   ],
   "source": [
    "import pandas as pd\n",
    "import json\n",
    "from langchain_openai import ChatOpenAI\n",
    "from langgraph.prebuilt import create_react_agent\n",
    "from dotenv import load_dotenv\n",
    "\n",
    "load_dotenv()"
   ]
  },
  {
   "cell_type": "code",
   "execution_count": 35,
   "id": "f0277247",
   "metadata": {},
   "outputs": [],
   "source": [
    "model = ChatOpenAI(model=\"gpt-4.1-mini\", temperature=0)"
   ]
  },
  {
   "cell_type": "code",
   "execution_count": 36,
   "id": "a4968a38",
   "metadata": {},
   "outputs": [],
   "source": [
    "patients_df = pd.DataFrame(columns=['full_name', 'phone_number', 'birth_date'])\n",
    "patients_df.to_csv('data/patients_info.csv', index=False)\n",
    "\n",
    "appointments_df = pd.DataFrame(columns=['patient_name', 'doctor_name', 'date', 'time', 'status'])\n",
    "appointments_df.to_csv('data/appointments_info.csv', index=False)"
   ]
  },
  {
   "cell_type": "code",
   "execution_count": 37,
   "id": "b4440100",
   "metadata": {},
   "outputs": [
    {
     "data": {
      "text/html": [
       "<div>\n",
       "<style scoped>\n",
       "    .dataframe tbody tr th:only-of-type {\n",
       "        vertical-align: middle;\n",
       "    }\n",
       "\n",
       "    .dataframe tbody tr th {\n",
       "        vertical-align: top;\n",
       "    }\n",
       "\n",
       "    .dataframe thead th {\n",
       "        text-align: right;\n",
       "    }\n",
       "</style>\n",
       "<table border=\"1\" class=\"dataframe\">\n",
       "  <thead>\n",
       "    <tr style=\"text-align: right;\">\n",
       "      <th></th>\n",
       "      <th>full_name</th>\n",
       "      <th>phone_number</th>\n",
       "      <th>birth_date</th>\n",
       "    </tr>\n",
       "  </thead>\n",
       "  <tbody>\n",
       "  </tbody>\n",
       "</table>\n",
       "</div>"
      ],
      "text/plain": [
       "Empty DataFrame\n",
       "Columns: [full_name, phone_number, birth_date]\n",
       "Index: []"
      ]
     },
     "execution_count": 37,
     "metadata": {},
     "output_type": "execute_result"
    }
   ],
   "source": [
    "pd.read_csv('data/patients_info.csv')"
   ]
  },
  {
   "cell_type": "code",
   "execution_count": 38,
   "id": "f05b6011",
   "metadata": {},
   "outputs": [
    {
     "data": {
      "text/html": [
       "<div>\n",
       "<style scoped>\n",
       "    .dataframe tbody tr th:only-of-type {\n",
       "        vertical-align: middle;\n",
       "    }\n",
       "\n",
       "    .dataframe tbody tr th {\n",
       "        vertical-align: top;\n",
       "    }\n",
       "\n",
       "    .dataframe thead th {\n",
       "        text-align: right;\n",
       "    }\n",
       "</style>\n",
       "<table border=\"1\" class=\"dataframe\">\n",
       "  <thead>\n",
       "    <tr style=\"text-align: right;\">\n",
       "      <th></th>\n",
       "      <th>patient_name</th>\n",
       "      <th>doctor_name</th>\n",
       "      <th>date</th>\n",
       "      <th>time</th>\n",
       "      <th>status</th>\n",
       "    </tr>\n",
       "  </thead>\n",
       "  <tbody>\n",
       "  </tbody>\n",
       "</table>\n",
       "</div>"
      ],
      "text/plain": [
       "Empty DataFrame\n",
       "Columns: [patient_name, doctor_name, date, time, status]\n",
       "Index: []"
      ]
     },
     "execution_count": 38,
     "metadata": {},
     "output_type": "execute_result"
    }
   ],
   "source": [
    "pd.read_csv('data/appointments_info.csv')"
   ]
  },
  {
   "cell_type": "code",
   "execution_count": 31,
   "id": "3fff7ce0",
   "metadata": {},
   "outputs": [],
   "source": [
    "def validate_patient(message: str) -> str:\n",
    "    \"\"\"\n",
    "    Function used to register and validate patients info\n",
    "\n",
    "    Args:\n",
    "        message: the message sent by the user\n",
    "    \"\"\"\n",
    "\n",
    "    try:\n",
    "        patient_json = json.loads(str(message).replace('\\'', '\\\"'))\n",
    "\n",
    "        patients_df = pd.read_csv('data/patients_info.csv')\n",
    "        df_columns = patients_df.columns\n",
    "        register_df = pd.DataFrame([[patient_json[df_columns[0]], patient_json[df_columns[1]], patient_json[df_columns[2]]]], columns=df_columns)\n",
    "        \n",
    "        patients_df = pd.concat([patients_df, register_df]).drop_duplicates(keep='first')\n",
    "        patients_df.to_csv('data/patients_info.csv', index=False)\n",
    "\n",
    "        return 'Success'\n",
    "        \n",
    "    except Exception as e:\n",
    "        print(message)\n",
    "        print(e)\n",
    "        return 'Error'\n",
    "\n",
    "def new_appointment(message: str) -> str:\n",
    "    \"\"\"\n",
    "    This agent is used to answer the question using data from a patients dataset. \n",
    "\n",
    "    Args:\n",
    "        message: the message sent by the user\n",
    "    \"\"\"\n",
    "\n",
    "    try:\n",
    "        appointment_json = json.loads(str(message).replace('\\'', '\\\"'))\n",
    "\n",
    "        appointment_df = pd.read_csv('data/appointments_info.csv')\n",
    "        df_columns = appointment_df.columns\n",
    "        register_df = pd.DataFrame([[appointment_json[df_columns[0]], appointment_json[df_columns[1]], appointment_json[df_columns[2]], appointment_json[df_columns[3]], \"scheduled\"]], columns=df_columns)\n",
    "        \n",
    "        appointment_df = pd.concat([appointment_df, register_df]).drop_duplicates(keep='last')\n",
    "        appointment_df.to_csv('data/appointments_info.csv', index=False)\n",
    "\n",
    "        return 'Success'\n",
    "        \n",
    "    except Exception as e:\n",
    "        print(message)\n",
    "        print(e)\n",
    "        return 'Error'\n",
    "\n",
    "def list_appointment(message: str) -> str:\n",
    "    \"\"\"\n",
    "    This agent is used to answer the question using data from a patients dataset. \n",
    "\n",
    "    Args:\n",
    "        message: the message sent by the user\n",
    "    \"\"\"\n",
    "\n",
    "    try:\n",
    "        appointment_json = json.loads(str(message).replace('\\'', '\\\"'))\n",
    "\n",
    "        appointment_df = pd.read_csv('data/appointments_info.csv')\n",
    "        appointment_df = appointment_df[appointment_df.patient_name == appointment_json['patient_name']]\n",
    "\n",
    "        return appointment_df.to_dict('records')\n",
    "        \n",
    "    except Exception as e:\n",
    "        print(message)\n",
    "        print(e)\n",
    "        return 'Error'\n",
    "    \n",
    "def confirm_appointment(message: str) -> str:\n",
    "    \"\"\"\n",
    "    This agent is used to answer the question using data from a patients dataset. \n",
    "\n",
    "    Args:\n",
    "        message: the message sent by the user\n",
    "    \"\"\"\n",
    "\n",
    "    try:\n",
    "        appointment_json = json.loads(str(message).replace('\\'', '\\\"'))\n",
    "\n",
    "        appointment_df = pd.read_csv('data/appointments_info.csv')\n",
    "        df_columns = appointment_df.columns\n",
    "        register_df = pd.DataFrame([[appointment_json[df_columns[0]], appointment_json[df_columns[1]], appointment_json[df_columns[2]], appointment_json[df_columns[3]], \"confirmed\"]], columns=df_columns)\n",
    "        \n",
    "        appointment_df = pd.concat([appointment_df, register_df]).drop_duplicates(keep='last', subset=['patient_name', 'doctor_name', 'date', 'time'])\n",
    "        appointment_df.to_csv('data/appointments_info.csv', index=False)\n",
    "\n",
    "        return 'Success'\n",
    "        \n",
    "    except Exception as e:\n",
    "        print(message)\n",
    "        print(e)\n",
    "        return 'Error'\n",
    "    \n",
    "def cancel_appointment(message: str) -> str:\n",
    "    \"\"\"\n",
    "    This agent is used to answer the question using data from a patients dataset. \n",
    "\n",
    "    Args:\n",
    "        message: the message sent by the user\n",
    "    \"\"\"\n",
    "\n",
    "    try:\n",
    "        appointment_json = json.loads(str(message).replace('\\'', '\\\"'))\n",
    "\n",
    "        appointment_df = pd.read_csv('data/appointments_info.csv')\n",
    "        df_columns = appointment_df.columns\n",
    "        register_df = pd.DataFrame([[appointment_json[df_columns[0]], appointment_json[df_columns[1]], appointment_json[df_columns[2]], appointment_json[df_columns[3]], \"canceled\"]], columns=df_columns)\n",
    "        \n",
    "        appointment_df = pd.concat([appointment_df, register_df]).drop_duplicates(keep=False, subset=['patient_name', 'doctor_name', 'date', 'time'])\n",
    "        appointment_df.to_csv('data/appointments_info.csv', index=False)\n",
    "\n",
    "        return 'Success'\n",
    "        \n",
    "    except Exception as e:\n",
    "        print(message)\n",
    "        print(e)\n",
    "        return 'Error'"
   ]
  },
  {
   "cell_type": "code",
   "execution_count": 32,
   "id": "be5aaf0c",
   "metadata": {},
   "outputs": [
    {
     "data": {
      "text/html": [
       "<div>\n",
       "<style scoped>\n",
       "    .dataframe tbody tr th:only-of-type {\n",
       "        vertical-align: middle;\n",
       "    }\n",
       "\n",
       "    .dataframe tbody tr th {\n",
       "        vertical-align: top;\n",
       "    }\n",
       "\n",
       "    .dataframe thead th {\n",
       "        text-align: right;\n",
       "    }\n",
       "</style>\n",
       "<table border=\"1\" class=\"dataframe\">\n",
       "  <thead>\n",
       "    <tr style=\"text-align: right;\">\n",
       "      <th></th>\n",
       "      <th>full_name</th>\n",
       "      <th>phone_number</th>\n",
       "      <th>birth_date</th>\n",
       "    </tr>\n",
       "  </thead>\n",
       "  <tbody>\n",
       "    <tr>\n",
       "      <th>0</th>\n",
       "      <td>Rafael Barreira</td>\n",
       "      <td>1177665544</td>\n",
       "      <td>1997-01-21</td>\n",
       "    </tr>\n",
       "  </tbody>\n",
       "</table>\n",
       "</div>"
      ],
      "text/plain": [
       "         full_name  phone_number  birth_date\n",
       "0  Rafael Barreira    1177665544  1997-01-21"
      ]
     },
     "execution_count": 32,
     "metadata": {},
     "output_type": "execute_result"
    }
   ],
   "source": [
    "validate_patient({\"full_name\":\"Rafael Barreira\",\"phone_number\":\"1177665544\",\"birth_date\":\"1997-01-21\"})\n",
    "\n",
    "pd.read_csv('data/patients_info.csv')"
   ]
  },
  {
   "cell_type": "code",
   "execution_count": 33,
   "id": "78e58ad5",
   "metadata": {},
   "outputs": [
    {
     "data": {
      "text/html": [
       "<div>\n",
       "<style scoped>\n",
       "    .dataframe tbody tr th:only-of-type {\n",
       "        vertical-align: middle;\n",
       "    }\n",
       "\n",
       "    .dataframe tbody tr th {\n",
       "        vertical-align: top;\n",
       "    }\n",
       "\n",
       "    .dataframe thead th {\n",
       "        text-align: right;\n",
       "    }\n",
       "</style>\n",
       "<table border=\"1\" class=\"dataframe\">\n",
       "  <thead>\n",
       "    <tr style=\"text-align: right;\">\n",
       "      <th></th>\n",
       "      <th>patient_name</th>\n",
       "      <th>doctor_name</th>\n",
       "      <th>date</th>\n",
       "      <th>time</th>\n",
       "      <th>status</th>\n",
       "    </tr>\n",
       "  </thead>\n",
       "  <tbody>\n",
       "    <tr>\n",
       "      <th>0</th>\n",
       "      <td>Rafael Barreira</td>\n",
       "      <td>Dr. Joao Miara</td>\n",
       "      <td>2025-12-01</td>\n",
       "      <td>14:00 pm</td>\n",
       "      <td>scheduled</td>\n",
       "    </tr>\n",
       "  </tbody>\n",
       "</table>\n",
       "</div>"
      ],
      "text/plain": [
       "      patient_name     doctor_name        date      time     status\n",
       "0  Rafael Barreira  Dr. Joao Miara  2025-12-01  14:00 pm  scheduled"
      ]
     },
     "execution_count": 33,
     "metadata": {},
     "output_type": "execute_result"
    }
   ],
   "source": [
    "new_appointment({\"patient_name\":\"Rafael Barreira\",\"doctor_name\":\"Dr. Joao Miara\",\"date\":\"2025-12-01\",\"time\":\"14:00 pm\"})\n",
    "\n",
    "pd.read_csv('data/appointments_info.csv')"
   ]
  },
  {
   "cell_type": "code",
   "execution_count": 34,
   "id": "98f9d2da",
   "metadata": {},
   "outputs": [
    {
     "data": {
      "text/plain": [
       "[{'patient_name': 'Rafael Barreira',\n",
       "  'doctor_name': 'Dr. Joao Miara',\n",
       "  'date': '2025-12-01',\n",
       "  'time': '14:00 pm',\n",
       "  'status': 'scheduled'}]"
      ]
     },
     "execution_count": 34,
     "metadata": {},
     "output_type": "execute_result"
    }
   ],
   "source": [
    "list_appointment({\"patient_name\":\"Rafael Barreira\"})"
   ]
  },
  {
   "cell_type": "code",
   "execution_count": 10,
   "id": "fb548ad3",
   "metadata": {},
   "outputs": [
    {
     "data": {
      "text/html": [
       "<div>\n",
       "<style scoped>\n",
       "    .dataframe tbody tr th:only-of-type {\n",
       "        vertical-align: middle;\n",
       "    }\n",
       "\n",
       "    .dataframe tbody tr th {\n",
       "        vertical-align: top;\n",
       "    }\n",
       "\n",
       "    .dataframe thead th {\n",
       "        text-align: right;\n",
       "    }\n",
       "</style>\n",
       "<table border=\"1\" class=\"dataframe\">\n",
       "  <thead>\n",
       "    <tr style=\"text-align: right;\">\n",
       "      <th></th>\n",
       "      <th>patient_name</th>\n",
       "      <th>doctor_name</th>\n",
       "      <th>date</th>\n",
       "      <th>time</th>\n",
       "      <th>status</th>\n",
       "    </tr>\n",
       "  </thead>\n",
       "  <tbody>\n",
       "    <tr>\n",
       "      <th>0</th>\n",
       "      <td>Rafael Barreira</td>\n",
       "      <td>Dr. Joao Miara</td>\n",
       "      <td>2025-12-01</td>\n",
       "      <td>14:00 pm</td>\n",
       "      <td>confirmed</td>\n",
       "    </tr>\n",
       "  </tbody>\n",
       "</table>\n",
       "</div>"
      ],
      "text/plain": [
       "      patient_name     doctor_name        date      time     status\n",
       "0  Rafael Barreira  Dr. Joao Miara  2025-12-01  14:00 pm  confirmed"
      ]
     },
     "execution_count": 10,
     "metadata": {},
     "output_type": "execute_result"
    }
   ],
   "source": [
    "confirm_appointment({\"patient_name\":\"Rafael Barreira\",\"doctor_name\":\"Dr. Joao Miara\",\"date\":\"2025-12-01\",\"time\":\"14:00 pm\"})\n",
    "\n",
    "pd.read_csv('data/appointments_info.csv')"
   ]
  },
  {
   "cell_type": "code",
   "execution_count": 11,
   "id": "55a461f5",
   "metadata": {},
   "outputs": [
    {
     "data": {
      "text/html": [
       "<div>\n",
       "<style scoped>\n",
       "    .dataframe tbody tr th:only-of-type {\n",
       "        vertical-align: middle;\n",
       "    }\n",
       "\n",
       "    .dataframe tbody tr th {\n",
       "        vertical-align: top;\n",
       "    }\n",
       "\n",
       "    .dataframe thead th {\n",
       "        text-align: right;\n",
       "    }\n",
       "</style>\n",
       "<table border=\"1\" class=\"dataframe\">\n",
       "  <thead>\n",
       "    <tr style=\"text-align: right;\">\n",
       "      <th></th>\n",
       "      <th>patient_name</th>\n",
       "      <th>doctor_name</th>\n",
       "      <th>date</th>\n",
       "      <th>time</th>\n",
       "      <th>status</th>\n",
       "    </tr>\n",
       "  </thead>\n",
       "  <tbody>\n",
       "  </tbody>\n",
       "</table>\n",
       "</div>"
      ],
      "text/plain": [
       "Empty DataFrame\n",
       "Columns: [patient_name, doctor_name, date, time, status]\n",
       "Index: []"
      ]
     },
     "execution_count": 11,
     "metadata": {},
     "output_type": "execute_result"
    }
   ],
   "source": [
    "cancel_appointment({\"patient_name\":\"Rafael Barreira\",\"doctor_name\":\"Dr. Joao Miara\",\"date\":\"2025-12-01\",\"time\":\"14:00 pm\"})\n",
    "\n",
    "pd.read_csv('data/appointments_info.csv')"
   ]
  },
  {
   "cell_type": "code",
   "execution_count": 12,
   "id": "2dc3ae05",
   "metadata": {},
   "outputs": [],
   "source": [
    "class MedicalAgent:\n",
    "    \"\"\"\n",
    "    A class to create and manage a ReAct agent with multiple medical appointment tools.\n",
    "    \"\"\"\n",
    "\n",
    "    _SYSTEM_PROMPT = \"\"\"\n",
    "    You are an assistant for medical appointment. \n",
    "    When a new conversation begins, the first step might be to validate the users name using the validation tool.\n",
    "    After that, use the tools to handle the appointments.\n",
    "    \"\"\"\n",
    "\n",
    "    def __init__(self, model: ChatOpenAI):\n",
    "        \"\"\"\n",
    "        Initializes the agent, its tools, and all required components.\n",
    "\n",
    "        Args:\n",
    "            model: An instance of a LangChain chat model.\n",
    "        \"\"\"\n",
    "\n",
    "        self.conversation = {'messages': []}\n",
    "\n",
    "        # Define the list of tools, pointing to the class methods\n",
    "        tools = [\n",
    "            self._validation_tool,\n",
    "            self._new_appointment_tool,\n",
    "            self._list_appointment_tool,\n",
    "            self._confirm_appointment_tool,\n",
    "            self._cancel_appointment_tool\n",
    "        ]\n",
    "\n",
    "        # Create and store the final agent\n",
    "        self.supervisor = create_react_agent(\n",
    "            model=model, \n",
    "            tools=tools, \n",
    "            prompt=self._SYSTEM_PROMPT\n",
    "        )\n",
    "\n",
    "    def _validation_tool(self, message: str) -> str:\n",
    "        \"\"\"\n",
    "        This tool is used to validate the patients info.\n",
    "        This tool requires a json format as input\n",
    "        Required fields:\n",
    "        - full_name\n",
    "        - phone_number\n",
    "        - birth_date\n",
    "        \"\"\"\n",
    "\n",
    "        return validate_patient(message)\n",
    "    \n",
    "    def _new_appointment_tool(self, message: str) -> str:\n",
    "        \"\"\"\n",
    "        This tool is used to make a new appointment. This tool requires a json format as input\n",
    "        Required fields:\n",
    "        - patient_name\n",
    "        - doctor_name\n",
    "        - date\n",
    "        - time\n",
    "\n",
    "        \"\"\"\n",
    "        print('Tool use')\n",
    "        return new_appointment(message)\n",
    "    \n",
    "    def _confirm_appointment_tool(self, message: str) -> str:\n",
    "        \"\"\"\n",
    "        This tool is used to confirm an appointment. This tool requires a json format as input\n",
    "        Required fields:\n",
    "        - patient_name\n",
    "        - doctor_name\n",
    "        - date\n",
    "        - time\n",
    "\n",
    "        \"\"\"\n",
    "        print('Tool use3')\n",
    "        return confirm_appointment(message)\n",
    "    \n",
    "    def _cancel_appointment_tool(self, message: str) -> str:\n",
    "        \"\"\"\n",
    "        This tool is used to cancel an appointment. This tool requires a json format as input\n",
    "        Required fields:\n",
    "        - patient_name\n",
    "        - doctor_name\n",
    "        - date\n",
    "        - time\n",
    "\n",
    "        \"\"\"\n",
    "        print('Tool use4')\n",
    "        return cancel_appointment(message)\n",
    "    \n",
    "    def _list_appointment_tool(self, message: str) -> str:\n",
    "        \"\"\"\n",
    "        List all the appointments the patient has.\n",
    "        Return this to the patient as list and also communicate each corresponding status\n",
    "\n",
    "        Required fields:\n",
    "        - patient_name\n",
    "        \"\"\"\n",
    "        print('Tool use 2')\n",
    "        return list_appointment(message)\n",
    "\n",
    "    def invoke(self, message: str) -> dict:\n",
    "        \"\"\"\n",
    "        Runs the agent with a user message.\n",
    "\n",
    "        Args:\n",
    "            message: The user's input question.\n",
    "\n",
    "        Returns:\n",
    "            The final response from the agent.\n",
    "        \"\"\"\n",
    "        self.conversation['messages'].append(('human', message))\n",
    "        response = self.supervisor.invoke(self.conversation)\n",
    "        self.conversation = response\n",
    "        return response"
   ]
  },
  {
   "cell_type": "code",
   "execution_count": null,
   "id": "cc82c135",
   "metadata": {},
   "outputs": [],
   "source": [
    "\n",
    "model = ChatOpenAI(model=\"gpt-4.1-mini\", temperature=0)\n",
    "\n",
    "supervisor = MedicalAgent(model=model)"
   ]
  },
  {
   "cell_type": "code",
   "execution_count": 14,
   "id": "34d57745",
   "metadata": {},
   "outputs": [
    {
     "name": "stdout",
     "output_type": "stream",
     "text": [
      "User: Hello\n",
      "Bot: Hello! To assist you with medical appointments, may I please have your full name, phone number, and birth date for verification?\n"
     ]
    }
   ],
   "source": [
    "message = \"Hello\"\n",
    "response = supervisor.invoke(message)\n",
    "\n",
    "print('User:', message)\n",
    "print('Bot:', response['messages'][-1].content)"
   ]
  },
  {
   "cell_type": "code",
   "execution_count": 15,
   "id": "8e07a9d6",
   "metadata": {},
   "outputs": [
    {
     "name": "stdout",
     "output_type": "stream",
     "text": [
      "User: Rafael Barreira\n",
      "Bot: Could you please provide your phone number and birth date as well to complete the verification?\n"
     ]
    }
   ],
   "source": [
    "message = \"Rafael Barreira\"\n",
    "response = supervisor.invoke(message)\n",
    "\n",
    "print('User:', message)\n",
    "print('Bot:', response['messages'][-1].content)"
   ]
  },
  {
   "cell_type": "code",
   "execution_count": 16,
   "id": "fe47ae31",
   "metadata": {},
   "outputs": [
    {
     "name": "stdout",
     "output_type": "stream",
     "text": [
      "User: Phone 1177665544 and born in Jan 21 1997\n",
      "Bot: Thank you, Rafael Barreira. How can I assist you with your medical appointments today? Would you like to book a new appointment, check existing appointments, confirm, or cancel one?\n"
     ]
    }
   ],
   "source": [
    "message = \"Phone 1177665544 and born in Jan 21 1997\"\n",
    "response = supervisor.invoke(message)\n",
    "\n",
    "print('User:', message)\n",
    "print('Bot:', response['messages'][-1].content)"
   ]
  },
  {
   "cell_type": "code",
   "execution_count": 17,
   "id": "427abcb7",
   "metadata": {},
   "outputs": [
    {
     "name": "stdout",
     "output_type": "stream",
     "text": [
      "User: I need an appointment with Doctor Tony Miaga\n",
      "Bot: Please provide the preferred date and time for your appointment with Doctor Tony Miaga.\n"
     ]
    }
   ],
   "source": [
    "message = \"I need an appointment with Doctor Tony Miaga\"\n",
    "response = supervisor.invoke(message)\n",
    "\n",
    "print('User:', message)\n",
    "print('Bot:', response['messages'][-1].content)"
   ]
  },
  {
   "cell_type": "code",
   "execution_count": 18,
   "id": "8be4d195",
   "metadata": {},
   "outputs": [
    {
     "name": "stdout",
     "output_type": "stream",
     "text": [
      "Tool use\n",
      "User: Nov 10 2025 at 2pm\n",
      "Bot: Your appointment with Doctor Tony Miaga has been successfully scheduled for November 10, 2025, at 2:00 PM. Is there anything else I can assist you with?\n"
     ]
    }
   ],
   "source": [
    "message = \"Nov 10 2025 at 2pm\"\n",
    "response = supervisor.invoke(message)\n",
    "\n",
    "print('User:', message)\n",
    "print('Bot:', response['messages'][-1].content)"
   ]
  },
  {
   "cell_type": "code",
   "execution_count": 19,
   "id": "677de3fa",
   "metadata": {},
   "outputs": [
    {
     "name": "stdout",
     "output_type": "stream",
     "text": [
      "Tool use\n",
      "User: I also need to schedule with Dr. Nancy Nunes, on October 3 2025 at 10 am\n",
      "Bot: Your appointment with Dr. Nancy Nunes has been successfully scheduled for October 3, 2025, at 10:00 AM. Would you like to do anything else with your appointments?\n"
     ]
    }
   ],
   "source": [
    "message = \"I also need to schedule with Dr. Nancy Nunes, on October 3 2025 at 10 am\"\n",
    "response = supervisor.invoke(message)\n",
    "\n",
    "print('User:', message)\n",
    "print('Bot:', response['messages'][-1].content)"
   ]
  },
  {
   "cell_type": "code",
   "execution_count": 20,
   "id": "247fe159",
   "metadata": {},
   "outputs": [
    {
     "name": "stdout",
     "output_type": "stream",
     "text": [
      "Tool use 2\n",
      "User: Yes, can you list my appointments?\n",
      "Bot: You have the following appointments scheduled:\n",
      "1. With Doctor Tony Miaga on November 10, 2025, at 2:00 PM. Status: Scheduled.\n",
      "2. With Doctor Nancy Nunes on October 3, 2025, at 10:00 AM. Status: Scheduled.\n",
      "\n",
      "Is there anything else you would like to do?\n"
     ]
    }
   ],
   "source": [
    "message = \"Yes, can you list my appointments?\"\n",
    "response = supervisor.invoke(message)\n",
    "\n",
    "print('User:', message)\n",
    "print('Bot:', response['messages'][-1].content)"
   ]
  },
  {
   "cell_type": "code",
   "execution_count": 21,
   "id": "ce709e23",
   "metadata": {},
   "outputs": [
    {
     "name": "stdout",
     "output_type": "stream",
     "text": [
      "Tool use3\n",
      "User: Yes, I want to confirm the appoint with Dr. Tony\n",
      "Bot: Your appointment with Doctor Tony Miaga on November 10, 2025, at 2:00 PM has been confirmed. Is there anything else I can help you with?\n"
     ]
    }
   ],
   "source": [
    "message = \"Yes, I want to confirm the appoint with Dr. Tony\"\n",
    "response = supervisor.invoke(message)\n",
    "\n",
    "print('User:', message)\n",
    "print('Bot:', response['messages'][-1].content)"
   ]
  },
  {
   "cell_type": "code",
   "execution_count": 22,
   "id": "be991448",
   "metadata": {},
   "outputs": [
    {
     "name": "stdout",
     "output_type": "stream",
     "text": [
      "Tool use 2\n",
      "User: Yes, can you list my appointments again?\n",
      "Bot: Here are your current appointments:\n",
      "1. With Doctor Nancy Nunes on October 3, 2025, at 10:00 AM. Status: Scheduled.\n",
      "2. With Doctor Tony Miaga on November 10, 2025, at 2:00 PM. Status: Confirmed.\n",
      "\n",
      "Let me know if you need any further assistance.\n"
     ]
    }
   ],
   "source": [
    "message = \"Yes, can you list my appointments again?\"\n",
    "response = supervisor.invoke(message)\n",
    "\n",
    "print('User:', message)\n",
    "print('Bot:', response['messages'][-1].content)"
   ]
  },
  {
   "cell_type": "code",
   "execution_count": 23,
   "id": "8cc44094",
   "metadata": {},
   "outputs": [
    {
     "name": "stdout",
     "output_type": "stream",
     "text": [
      "Tool use4\n",
      "User: I need to cancel the one from october\n",
      "Bot: Your appointment with Doctor Nancy Nunes on October 3, 2025, at 10:00 AM has been canceled. Is there anything else you would like to do?\n"
     ]
    }
   ],
   "source": [
    "message = \"I need to cancel the one from october\"\n",
    "response = supervisor.invoke(message)\n",
    "\n",
    "print('User:', message)\n",
    "print('Bot:', response['messages'][-1].content)"
   ]
  },
  {
   "cell_type": "code",
   "execution_count": 24,
   "id": "7c8eaadd",
   "metadata": {},
   "outputs": [
    {
     "name": "stdout",
     "output_type": "stream",
     "text": [
      "Tool use 2\n",
      "User: List my appointments please\n",
      "Bot: You currently have one appointment scheduled:\n",
      "- With Doctor Tony Miaga on November 10, 2025, at 2:00 PM. Status: Confirmed.\n",
      "\n",
      "If you need any more assistance, feel free to ask!\n"
     ]
    }
   ],
   "source": [
    "message = \"List my appointments please\"\n",
    "response = supervisor.invoke(message)\n",
    "\n",
    "print('User:', message)\n",
    "print('Bot:', response['messages'][-1].content)"
   ]
  },
  {
   "cell_type": "code",
   "execution_count": 25,
   "id": "2f226201",
   "metadata": {},
   "outputs": [
    {
     "data": {
      "text/plain": [
       "{'messages': [HumanMessage(content='Hello', additional_kwargs={}, response_metadata={}, id='b47c6dcb-be12-458c-8bb8-855507d70386'),\n",
       "  AIMessage(content='Hello! To assist you with medical appointments, may I please have your full name, phone number, and birth date for verification?', additional_kwargs={'refusal': None}, response_metadata={'token_usage': {'completion_tokens': 27, 'prompt_tokens': 338, 'total_tokens': 365, 'completion_tokens_details': {'accepted_prediction_tokens': 0, 'audio_tokens': 0, 'reasoning_tokens': 0, 'rejected_prediction_tokens': 0}, 'prompt_tokens_details': {'audio_tokens': 0, 'cached_tokens': 0}}, 'model_name': 'gpt-4.1-mini-2025-04-14', 'system_fingerprint': 'fp_95d112f245', 'id': 'chatcmpl-CNr671XrfNfHxFoVKM0o6x9V09EUK', 'service_tier': 'default', 'finish_reason': 'stop', 'logprobs': None}, id='run--03cfac7a-e856-4899-9113-2d0fb2de070a-0', usage_metadata={'input_tokens': 338, 'output_tokens': 27, 'total_tokens': 365, 'input_token_details': {'audio': 0, 'cache_read': 0}, 'output_token_details': {'audio': 0, 'reasoning': 0}}),\n",
       "  HumanMessage(content='Rafael Barreira', additional_kwargs={}, response_metadata={}, id='f7269adc-fd96-40ef-85fe-1b4ffabaa652'),\n",
       "  AIMessage(content='Could you please provide your phone number and birth date as well to complete the verification?', additional_kwargs={'refusal': None}, response_metadata={'token_usage': {'completion_tokens': 18, 'prompt_tokens': 376, 'total_tokens': 394, 'completion_tokens_details': {'accepted_prediction_tokens': 0, 'audio_tokens': 0, 'reasoning_tokens': 0, 'rejected_prediction_tokens': 0}, 'prompt_tokens_details': {'audio_tokens': 0, 'cached_tokens': 0}}, 'model_name': 'gpt-4.1-mini-2025-04-14', 'system_fingerprint': 'fp_95d112f245', 'id': 'chatcmpl-CNr68NBhIp4xplOef6vujbEu6pS7G', 'service_tier': 'default', 'finish_reason': 'stop', 'logprobs': None}, id='run--ac51e654-4520-42b9-8cd4-5a35ae0da9a2-0', usage_metadata={'input_tokens': 376, 'output_tokens': 18, 'total_tokens': 394, 'input_token_details': {'audio': 0, 'cache_read': 0}, 'output_token_details': {'audio': 0, 'reasoning': 0}}),\n",
       "  HumanMessage(content='Phone 1177665544 and born in Jan 21 1997', additional_kwargs={}, response_metadata={}, id='39d2a33f-9620-44cd-a8af-cecd2cf9df3a'),\n",
       "  AIMessage(content='', additional_kwargs={'tool_calls': [{'id': 'call_rx20x9T1KzDvuLJjqq8KlqAK', 'function': {'arguments': '{\"message\":\"{\\\\\"full_name\\\\\":\\\\\"Rafael Barreira\\\\\",\\\\\"phone_number\\\\\":\\\\\"1177665544\\\\\",\\\\\"birth_date\\\\\":\\\\\"1997-01-21\\\\\"}\"}', 'name': '_validation_tool'}, 'type': 'function'}], 'refusal': None}, response_metadata={'token_usage': {'completion_tokens': 42, 'prompt_tokens': 416, 'total_tokens': 458, 'completion_tokens_details': {'accepted_prediction_tokens': 0, 'audio_tokens': 0, 'reasoning_tokens': 0, 'rejected_prediction_tokens': 0}, 'prompt_tokens_details': {'audio_tokens': 0, 'cached_tokens': 0}}, 'model_name': 'gpt-4.1-mini-2025-04-14', 'system_fingerprint': 'fp_95d112f245', 'id': 'chatcmpl-CNr69XS5FlPDGaViQtwi5C2XxtSwT', 'service_tier': 'default', 'finish_reason': 'tool_calls', 'logprobs': None}, id='run--ce161aeb-72a0-48f6-9ed0-52a61c4bb562-0', tool_calls=[{'name': '_validation_tool', 'args': {'message': '{\"full_name\":\"Rafael Barreira\",\"phone_number\":\"1177665544\",\"birth_date\":\"1997-01-21\"}'}, 'id': 'call_rx20x9T1KzDvuLJjqq8KlqAK', 'type': 'tool_call'}], usage_metadata={'input_tokens': 416, 'output_tokens': 42, 'total_tokens': 458, 'input_token_details': {'audio': 0, 'cache_read': 0}, 'output_token_details': {'audio': 0, 'reasoning': 0}}),\n",
       "  ToolMessage(content='Success', name='_validation_tool', id='ab0d5a50-f326-415d-b529-cf07ae9c6b88', tool_call_id='call_rx20x9T1KzDvuLJjqq8KlqAK'),\n",
       "  AIMessage(content='Thank you, Rafael Barreira. How can I assist you with your medical appointments today? Would you like to book a new appointment, check existing appointments, confirm, or cancel one?', additional_kwargs={'refusal': None}, response_metadata={'token_usage': {'completion_tokens': 38, 'prompt_tokens': 467, 'total_tokens': 505, 'completion_tokens_details': {'accepted_prediction_tokens': 0, 'audio_tokens': 0, 'reasoning_tokens': 0, 'rejected_prediction_tokens': 0}, 'prompt_tokens_details': {'audio_tokens': 0, 'cached_tokens': 0}}, 'model_name': 'gpt-4.1-mini-2025-04-14', 'system_fingerprint': 'fp_95d112f245', 'id': 'chatcmpl-CNr6AgML3GYuaHp8Kbl0AopiVKVWr', 'service_tier': 'default', 'finish_reason': 'stop', 'logprobs': None}, id='run--0ac204be-21c1-43a3-a7de-ebb2543c5f6d-0', usage_metadata={'input_tokens': 467, 'output_tokens': 38, 'total_tokens': 505, 'input_token_details': {'audio': 0, 'cache_read': 0}, 'output_token_details': {'audio': 0, 'reasoning': 0}}),\n",
       "  HumanMessage(content='I need an appointment with Doctor Tony Miaga', additional_kwargs={}, response_metadata={}, id='0feade36-d87d-4b8e-a07a-27df6db424c1'),\n",
       "  AIMessage(content='Please provide the preferred date and time for your appointment with Doctor Tony Miaga.', additional_kwargs={'refusal': None}, response_metadata={'token_usage': {'completion_tokens': 17, 'prompt_tokens': 521, 'total_tokens': 538, 'completion_tokens_details': {'accepted_prediction_tokens': 0, 'audio_tokens': 0, 'reasoning_tokens': 0, 'rejected_prediction_tokens': 0}, 'prompt_tokens_details': {'audio_tokens': 0, 'cached_tokens': 0}}, 'model_name': 'gpt-4.1-mini-2025-04-14', 'system_fingerprint': 'fp_95d112f245', 'id': 'chatcmpl-CNr6B1o09A0eE0w8omeDWeenRsmFz', 'service_tier': 'default', 'finish_reason': 'stop', 'logprobs': None}, id='run--ea5a4966-e04c-467d-90e8-6134b906055c-0', usage_metadata={'input_tokens': 521, 'output_tokens': 17, 'total_tokens': 538, 'input_token_details': {'audio': 0, 'cache_read': 0}, 'output_token_details': {'audio': 0, 'reasoning': 0}}),\n",
       "  HumanMessage(content='Nov 10 2025 at 2pm', additional_kwargs={}, response_metadata={}, id='2b000393-f230-4906-b604-846f00f2992b'),\n",
       "  AIMessage(content='', additional_kwargs={'tool_calls': [{'id': 'call_PY5X2mmm4BOpA9pDz8KDkQ7W', 'function': {'arguments': '{\"message\":\"{\\\\\"patient_name\\\\\":\\\\\"Rafael Barreira\\\\\",\\\\\"doctor_name\\\\\":\\\\\"Tony Miaga\\\\\",\\\\\"date\\\\\":\\\\\"2025-11-10\\\\\",\\\\\"time\\\\\":\\\\\"14:00\\\\\"}\"}', 'name': '_new_appointment_tool'}, 'type': 'function'}], 'refusal': None}, response_metadata={'token_usage': {'completion_tokens': 48, 'prompt_tokens': 555, 'total_tokens': 603, 'completion_tokens_details': {'accepted_prediction_tokens': 0, 'audio_tokens': 0, 'reasoning_tokens': 0, 'rejected_prediction_tokens': 0}, 'prompt_tokens_details': {'audio_tokens': 0, 'cached_tokens': 0}}, 'model_name': 'gpt-4.1-mini-2025-04-14', 'system_fingerprint': 'fp_95d112f245', 'id': 'chatcmpl-CNr6CwTXGYqMwJ0EqwMI5oG09SznS', 'service_tier': 'default', 'finish_reason': 'tool_calls', 'logprobs': None}, id='run--7b2d114f-2dec-44cc-aa02-c1898286f312-0', tool_calls=[{'name': '_new_appointment_tool', 'args': {'message': '{\"patient_name\":\"Rafael Barreira\",\"doctor_name\":\"Tony Miaga\",\"date\":\"2025-11-10\",\"time\":\"14:00\"}'}, 'id': 'call_PY5X2mmm4BOpA9pDz8KDkQ7W', 'type': 'tool_call'}], usage_metadata={'input_tokens': 555, 'output_tokens': 48, 'total_tokens': 603, 'input_token_details': {'audio': 0, 'cache_read': 0}, 'output_token_details': {'audio': 0, 'reasoning': 0}}),\n",
       "  ToolMessage(content='Success', name='_new_appointment_tool', id='49a0ae2a-f6b4-4f75-8aba-c9236b9234e3', tool_call_id='call_PY5X2mmm4BOpA9pDz8KDkQ7W'),\n",
       "  AIMessage(content='Your appointment with Doctor Tony Miaga has been successfully scheduled for November 10, 2025, at 2:00 PM. Is there anything else I can assist you with?', additional_kwargs={'refusal': None}, response_metadata={'token_usage': {'completion_tokens': 38, 'prompt_tokens': 614, 'total_tokens': 652, 'completion_tokens_details': {'accepted_prediction_tokens': 0, 'audio_tokens': 0, 'reasoning_tokens': 0, 'rejected_prediction_tokens': 0}, 'prompt_tokens_details': {'audio_tokens': 0, 'cached_tokens': 0}}, 'model_name': 'gpt-4.1-mini-2025-04-14', 'system_fingerprint': 'fp_95d112f245', 'id': 'chatcmpl-CNr6DLmo0ujndoR23AQ8b5nwq45Tg', 'service_tier': 'default', 'finish_reason': 'stop', 'logprobs': None}, id='run--7f2b2716-d00c-4960-918c-c42102f2115e-0', usage_metadata={'input_tokens': 614, 'output_tokens': 38, 'total_tokens': 652, 'input_token_details': {'audio': 0, 'cache_read': 0}, 'output_token_details': {'audio': 0, 'reasoning': 0}}),\n",
       "  HumanMessage(content='I also need to schedule with Dr. Nancy Nunes, on October 3 2025 at 10 am', additional_kwargs={}, response_metadata={}, id='29d3db2d-0deb-471b-8354-891e29b2bd6e'),\n",
       "  AIMessage(content='', additional_kwargs={'tool_calls': [{'id': 'call_rmkA96DNCq7IqaYKCAaxcM8g', 'function': {'arguments': '{\"message\":\"{\\\\\"patient_name\\\\\":\\\\\"Rafael Barreira\\\\\",\\\\\"doctor_name\\\\\":\\\\\"Nancy Nunes\\\\\",\\\\\"date\\\\\":\\\\\"2025-10-03\\\\\",\\\\\"time\\\\\":\\\\\"10:00\\\\\"}\"}', 'name': '_new_appointment_tool'}, 'type': 'function'}], 'refusal': None}, response_metadata={'token_usage': {'completion_tokens': 48, 'prompt_tokens': 682, 'total_tokens': 730, 'completion_tokens_details': {'accepted_prediction_tokens': 0, 'audio_tokens': 0, 'reasoning_tokens': 0, 'rejected_prediction_tokens': 0}, 'prompt_tokens_details': {'audio_tokens': 0, 'cached_tokens': 0}}, 'model_name': 'gpt-4.1-mini-2025-04-14', 'system_fingerprint': 'fp_95d112f245', 'id': 'chatcmpl-CNr6ECa3VAuthKMUtH5XSIDx7BS3z', 'service_tier': 'default', 'finish_reason': 'tool_calls', 'logprobs': None}, id='run--16d91152-d780-41bc-8a96-46091a69a9f1-0', tool_calls=[{'name': '_new_appointment_tool', 'args': {'message': '{\"patient_name\":\"Rafael Barreira\",\"doctor_name\":\"Nancy Nunes\",\"date\":\"2025-10-03\",\"time\":\"10:00\"}'}, 'id': 'call_rmkA96DNCq7IqaYKCAaxcM8g', 'type': 'tool_call'}], usage_metadata={'input_tokens': 682, 'output_tokens': 48, 'total_tokens': 730, 'input_token_details': {'audio': 0, 'cache_read': 0}, 'output_token_details': {'audio': 0, 'reasoning': 0}}),\n",
       "  ToolMessage(content='Success', name='_new_appointment_tool', id='483de29d-3e55-44cd-b333-f98f8ef75e97', tool_call_id='call_rmkA96DNCq7IqaYKCAaxcM8g'),\n",
       "  AIMessage(content='Your appointment with Dr. Nancy Nunes has been successfully scheduled for October 3, 2025, at 10:00 AM. Would you like to do anything else with your appointments?', additional_kwargs={'refusal': None}, response_metadata={'token_usage': {'completion_tokens': 40, 'prompt_tokens': 741, 'total_tokens': 781, 'completion_tokens_details': {'accepted_prediction_tokens': 0, 'audio_tokens': 0, 'reasoning_tokens': 0, 'rejected_prediction_tokens': 0}, 'prompt_tokens_details': {'audio_tokens': 0, 'cached_tokens': 0}}, 'model_name': 'gpt-4.1-mini-2025-04-14', 'system_fingerprint': 'fp_95d112f245', 'id': 'chatcmpl-CNr6FqLc1WBYXs5b9LmyXrd0ZSoph', 'service_tier': 'default', 'finish_reason': 'stop', 'logprobs': None}, id='run--0a323882-9beb-4e48-91fd-07c6f828ccb2-0', usage_metadata={'input_tokens': 741, 'output_tokens': 40, 'total_tokens': 781, 'input_token_details': {'audio': 0, 'cache_read': 0}, 'output_token_details': {'audio': 0, 'reasoning': 0}}),\n",
       "  HumanMessage(content='Yes, can you list my appointments?', additional_kwargs={}, response_metadata={}, id='b50bb87a-b814-4efe-8bba-6fd16539db74'),\n",
       "  AIMessage(content='', additional_kwargs={'tool_calls': [{'id': 'call_NPx3qKtoPX1zggFkyLH1SVTb', 'function': {'arguments': '{\"message\":\"{\\\\\"patient_name\\\\\":\\\\\"Rafael Barreira\\\\\"}\"}', 'name': '_list_appointment_tool'}, 'type': 'function'}], 'refusal': None}, response_metadata={'token_usage': {'completion_tokens': 26, 'prompt_tokens': 796, 'total_tokens': 822, 'completion_tokens_details': {'accepted_prediction_tokens': 0, 'audio_tokens': 0, 'reasoning_tokens': 0, 'rejected_prediction_tokens': 0}, 'prompt_tokens_details': {'audio_tokens': 0, 'cached_tokens': 0}}, 'model_name': 'gpt-4.1-mini-2025-04-14', 'system_fingerprint': 'fp_95d112f245', 'id': 'chatcmpl-CNr6HPN6x9lvzGkGciYQg2YoVFmvd', 'service_tier': 'default', 'finish_reason': 'tool_calls', 'logprobs': None}, id='run--a45a8112-c929-4eda-b392-e165231ef757-0', tool_calls=[{'name': '_list_appointment_tool', 'args': {'message': '{\"patient_name\":\"Rafael Barreira\"}'}, 'id': 'call_NPx3qKtoPX1zggFkyLH1SVTb', 'type': 'tool_call'}], usage_metadata={'input_tokens': 796, 'output_tokens': 26, 'total_tokens': 822, 'input_token_details': {'audio': 0, 'cache_read': 0}, 'output_token_details': {'audio': 0, 'reasoning': 0}}),\n",
       "  ToolMessage(content='[{\"patient_name\": \"Rafael Barreira\", \"doctor_name\": \"Tony Miaga\", \"date\": \"2025-11-10\", \"time\": \"14:00\", \"status\": \"scheduled\"}, {\"patient_name\": \"Rafael Barreira\", \"doctor_name\": \"Nancy Nunes\", \"date\": \"2025-10-03\", \"time\": \"10:00\", \"status\": \"scheduled\"}]', name='_list_appointment_tool', id='5766ab3a-d0d9-4178-87f2-fc7a7eefec8b', tool_call_id='call_NPx3qKtoPX1zggFkyLH1SVTb'),\n",
       "  AIMessage(content='You have the following appointments scheduled:\\n1. With Doctor Tony Miaga on November 10, 2025, at 2:00 PM. Status: Scheduled.\\n2. With Doctor Nancy Nunes on October 3, 2025, at 10:00 AM. Status: Scheduled.\\n\\nIs there anything else you would like to do?', additional_kwargs={'refusal': None}, response_metadata={'token_usage': {'completion_tokens': 72, 'prompt_tokens': 922, 'total_tokens': 994, 'completion_tokens_details': {'accepted_prediction_tokens': 0, 'audio_tokens': 0, 'reasoning_tokens': 0, 'rejected_prediction_tokens': 0}, 'prompt_tokens_details': {'audio_tokens': 0, 'cached_tokens': 0}}, 'model_name': 'gpt-4.1-mini-2025-04-14', 'system_fingerprint': 'fp_95d112f245', 'id': 'chatcmpl-CNr6ItmmzjMRZpuwfXNQrh64XN8RN', 'service_tier': 'default', 'finish_reason': 'stop', 'logprobs': None}, id='run--b6fcf86e-da61-4135-88d6-1b66245d67a2-0', usage_metadata={'input_tokens': 922, 'output_tokens': 72, 'total_tokens': 994, 'input_token_details': {'audio': 0, 'cache_read': 0}, 'output_token_details': {'audio': 0, 'reasoning': 0}}),\n",
       "  HumanMessage(content='Yes, I want to confirm the appoint with Dr. Tony', additional_kwargs={}, response_metadata={}, id='04d30e9f-ee64-48fa-bb4f-b09a70a72b88'),\n",
       "  AIMessage(content='', additional_kwargs={'tool_calls': [{'id': 'call_UzmiXupzBTxGFVr2JxRsYpjL', 'function': {'arguments': '{\"message\":\"{\\\\\"patient_name\\\\\":\\\\\"Rafael Barreira\\\\\",\\\\\"doctor_name\\\\\":\\\\\"Tony Miaga\\\\\",\\\\\"date\\\\\":\\\\\"2025-11-10\\\\\",\\\\\"time\\\\\":\\\\\"14:00\\\\\"}\"}', 'name': '_confirm_appointment_tool'}, 'type': 'function'}], 'refusal': None}, response_metadata={'token_usage': {'completion_tokens': 48, 'prompt_tokens': 1013, 'total_tokens': 1061, 'completion_tokens_details': {'accepted_prediction_tokens': 0, 'audio_tokens': 0, 'reasoning_tokens': 0, 'rejected_prediction_tokens': 0}, 'prompt_tokens_details': {'audio_tokens': 0, 'cached_tokens': 0}}, 'model_name': 'gpt-4.1-mini-2025-04-14', 'system_fingerprint': 'fp_95d112f245', 'id': 'chatcmpl-CNr6K9TBeuwABd6EaylmuZ41S7AXJ', 'service_tier': 'default', 'finish_reason': 'tool_calls', 'logprobs': None}, id='run--8e2be85e-2e1f-4321-bb00-53d6930de1fb-0', tool_calls=[{'name': '_confirm_appointment_tool', 'args': {'message': '{\"patient_name\":\"Rafael Barreira\",\"doctor_name\":\"Tony Miaga\",\"date\":\"2025-11-10\",\"time\":\"14:00\"}'}, 'id': 'call_UzmiXupzBTxGFVr2JxRsYpjL', 'type': 'tool_call'}], usage_metadata={'input_tokens': 1013, 'output_tokens': 48, 'total_tokens': 1061, 'input_token_details': {'audio': 0, 'cache_read': 0}, 'output_token_details': {'audio': 0, 'reasoning': 0}}),\n",
       "  ToolMessage(content='Success', name='_confirm_appointment_tool', id='510b0489-96b4-4c09-9009-dfce1708e646', tool_call_id='call_UzmiXupzBTxGFVr2JxRsYpjL'),\n",
       "  AIMessage(content='Your appointment with Doctor Tony Miaga on November 10, 2025, at 2:00 PM has been confirmed. Is there anything else I can help you with?', additional_kwargs={'refusal': None}, response_metadata={'token_usage': {'completion_tokens': 37, 'prompt_tokens': 1072, 'total_tokens': 1109, 'completion_tokens_details': {'accepted_prediction_tokens': 0, 'audio_tokens': 0, 'reasoning_tokens': 0, 'rejected_prediction_tokens': 0}, 'prompt_tokens_details': {'audio_tokens': 0, 'cached_tokens': 0}}, 'model_name': 'gpt-4.1-mini-2025-04-14', 'system_fingerprint': 'fp_95d112f245', 'id': 'chatcmpl-CNr6LIBqQ2JSMImQMAbMlRxQNS9hB', 'service_tier': 'default', 'finish_reason': 'stop', 'logprobs': None}, id='run--0249b26a-036a-4403-9162-8b2d31e9f4d4-0', usage_metadata={'input_tokens': 1072, 'output_tokens': 37, 'total_tokens': 1109, 'input_token_details': {'audio': 0, 'cache_read': 0}, 'output_token_details': {'audio': 0, 'reasoning': 0}}),\n",
       "  HumanMessage(content='Yes, can you list my appointments again?', additional_kwargs={}, response_metadata={}, id='6b4a71cc-7768-429b-b50a-b7a46915a376'),\n",
       "  AIMessage(content='', additional_kwargs={'tool_calls': [{'id': 'call_eJ5Xm6c6dksJgtjRgFl8tXOU', 'function': {'arguments': '{\"message\":\"{\\\\\"patient_name\\\\\":\\\\\"Rafael Barreira\\\\\"}\"}', 'name': '_list_appointment_tool'}, 'type': 'function'}], 'refusal': None}, response_metadata={'token_usage': {'completion_tokens': 26, 'prompt_tokens': 1125, 'total_tokens': 1151, 'completion_tokens_details': {'accepted_prediction_tokens': 0, 'audio_tokens': 0, 'reasoning_tokens': 0, 'rejected_prediction_tokens': 0}, 'prompt_tokens_details': {'audio_tokens': 0, 'cached_tokens': 1024}}, 'model_name': 'gpt-4.1-mini-2025-04-14', 'system_fingerprint': 'fp_95d112f245', 'id': 'chatcmpl-CNr6Myw3gPxccjUf3gB5Dw91guRqt', 'service_tier': 'default', 'finish_reason': 'tool_calls', 'logprobs': None}, id='run--940de6f8-7548-4f7c-8f47-c35a469b1364-0', tool_calls=[{'name': '_list_appointment_tool', 'args': {'message': '{\"patient_name\":\"Rafael Barreira\"}'}, 'id': 'call_eJ5Xm6c6dksJgtjRgFl8tXOU', 'type': 'tool_call'}], usage_metadata={'input_tokens': 1125, 'output_tokens': 26, 'total_tokens': 1151, 'input_token_details': {'audio': 0, 'cache_read': 1024}, 'output_token_details': {'audio': 0, 'reasoning': 0}}),\n",
       "  ToolMessage(content='[{\"patient_name\": \"Rafael Barreira\", \"doctor_name\": \"Nancy Nunes\", \"date\": \"2025-10-03\", \"time\": \"10:00\", \"status\": \"scheduled\"}, {\"patient_name\": \"Rafael Barreira\", \"doctor_name\": \"Tony Miaga\", \"date\": \"2025-11-10\", \"time\": \"14:00\", \"status\": \"confirmed\"}]', name='_list_appointment_tool', id='b9ab1eaa-9fc7-440a-9d4b-bbd856f4495f', tool_call_id='call_eJ5Xm6c6dksJgtjRgFl8tXOU'),\n",
       "  AIMessage(content='Here are your current appointments:\\n1. With Doctor Nancy Nunes on October 3, 2025, at 10:00 AM. Status: Scheduled.\\n2. With Doctor Tony Miaga on November 10, 2025, at 2:00 PM. Status: Confirmed.\\n\\nLet me know if you need any further assistance.', additional_kwargs={'refusal': None}, response_metadata={'token_usage': {'completion_tokens': 72, 'prompt_tokens': 1251, 'total_tokens': 1323, 'completion_tokens_details': {'accepted_prediction_tokens': 0, 'audio_tokens': 0, 'reasoning_tokens': 0, 'rejected_prediction_tokens': 0}, 'prompt_tokens_details': {'audio_tokens': 0, 'cached_tokens': 1024}}, 'model_name': 'gpt-4.1-mini-2025-04-14', 'system_fingerprint': 'fp_95d112f245', 'id': 'chatcmpl-CNr6NjoWmJYF5pxMa7kHPGrqd0JdP', 'service_tier': 'default', 'finish_reason': 'stop', 'logprobs': None}, id='run--b30bb1fd-48aa-4f13-af48-6101df8e3683-0', usage_metadata={'input_tokens': 1251, 'output_tokens': 72, 'total_tokens': 1323, 'input_token_details': {'audio': 0, 'cache_read': 1024}, 'output_token_details': {'audio': 0, 'reasoning': 0}}),\n",
       "  HumanMessage(content='I need to cancel the one from october', additional_kwargs={}, response_metadata={}, id='b4ea7cd4-e5a3-40cf-ae9d-603ac938d38d'),\n",
       "  AIMessage(content='', additional_kwargs={'tool_calls': [{'id': 'call_qmdzS8O9PemEx8MIe8eIS4vE', 'function': {'arguments': '{\"message\":\"{\\\\\"patient_name\\\\\":\\\\\"Rafael Barreira\\\\\",\\\\\"doctor_name\\\\\":\\\\\"Nancy Nunes\\\\\",\\\\\"date\\\\\":\\\\\"2025-10-03\\\\\",\\\\\"time\\\\\":\\\\\"10:00\\\\\"}\"}', 'name': '_cancel_appointment_tool'}, 'type': 'function'}], 'refusal': None}, response_metadata={'token_usage': {'completion_tokens': 48, 'prompt_tokens': 1338, 'total_tokens': 1386, 'completion_tokens_details': {'accepted_prediction_tokens': 0, 'audio_tokens': 0, 'reasoning_tokens': 0, 'rejected_prediction_tokens': 0}, 'prompt_tokens_details': {'audio_tokens': 0, 'cached_tokens': 1280}}, 'model_name': 'gpt-4.1-mini-2025-04-14', 'system_fingerprint': 'fp_95d112f245', 'id': 'chatcmpl-CNr6OFzP6ECyDgYStCe5kuxHAdtJa', 'service_tier': 'default', 'finish_reason': 'tool_calls', 'logprobs': None}, id='run--03833126-d5e0-4813-9e53-32cdfb3b07e5-0', tool_calls=[{'name': '_cancel_appointment_tool', 'args': {'message': '{\"patient_name\":\"Rafael Barreira\",\"doctor_name\":\"Nancy Nunes\",\"date\":\"2025-10-03\",\"time\":\"10:00\"}'}, 'id': 'call_qmdzS8O9PemEx8MIe8eIS4vE', 'type': 'tool_call'}], usage_metadata={'input_tokens': 1338, 'output_tokens': 48, 'total_tokens': 1386, 'input_token_details': {'audio': 0, 'cache_read': 1280}, 'output_token_details': {'audio': 0, 'reasoning': 0}}),\n",
       "  ToolMessage(content='Success', name='_cancel_appointment_tool', id='06411173-e30f-48e2-bd92-d145aba088ca', tool_call_id='call_qmdzS8O9PemEx8MIe8eIS4vE'),\n",
       "  AIMessage(content='Your appointment with Doctor Nancy Nunes on October 3, 2025, at 10:00 AM has been canceled. Is there anything else you would like to do?', additional_kwargs={'refusal': None}, response_metadata={'token_usage': {'completion_tokens': 37, 'prompt_tokens': 1397, 'total_tokens': 1434, 'completion_tokens_details': {'accepted_prediction_tokens': 0, 'audio_tokens': 0, 'reasoning_tokens': 0, 'rejected_prediction_tokens': 0}, 'prompt_tokens_details': {'audio_tokens': 0, 'cached_tokens': 1280}}, 'model_name': 'gpt-4.1-mini-2025-04-14', 'system_fingerprint': 'fp_95d112f245', 'id': 'chatcmpl-CNr6S1So84WMiFpNIceYye03x07Ht', 'service_tier': 'default', 'finish_reason': 'stop', 'logprobs': None}, id='run--74973dc2-f5c1-47c7-a380-3fb9078bee99-0', usage_metadata={'input_tokens': 1397, 'output_tokens': 37, 'total_tokens': 1434, 'input_token_details': {'audio': 0, 'cache_read': 1280}, 'output_token_details': {'audio': 0, 'reasoning': 0}}),\n",
       "  HumanMessage(content='List my appointments please', additional_kwargs={}, response_metadata={}, id='0b260caa-8a8d-4963-904c-24ee842a25f4'),\n",
       "  AIMessage(content='', additional_kwargs={'tool_calls': [{'id': 'call_P711kjT4Z8eLzKHdsCLYEWUw', 'function': {'arguments': '{\"message\":\"{\\\\\"patient_name\\\\\":\\\\\"Rafael Barreira\\\\\"}\"}', 'name': '_list_appointment_tool'}, 'type': 'function'}], 'refusal': None}, response_metadata={'token_usage': {'completion_tokens': 26, 'prompt_tokens': 1445, 'total_tokens': 1471, 'completion_tokens_details': {'accepted_prediction_tokens': 0, 'audio_tokens': 0, 'reasoning_tokens': 0, 'rejected_prediction_tokens': 0}, 'prompt_tokens_details': {'audio_tokens': 0, 'cached_tokens': 1408}}, 'model_name': 'gpt-4.1-mini-2025-04-14', 'system_fingerprint': 'fp_95d112f245', 'id': 'chatcmpl-CNr6TAqFxG1fmJaOccUQatJqDbn4Z', 'service_tier': 'default', 'finish_reason': 'tool_calls', 'logprobs': None}, id='run--24ed556f-c129-4485-8a97-84ea0406d39f-0', tool_calls=[{'name': '_list_appointment_tool', 'args': {'message': '{\"patient_name\":\"Rafael Barreira\"}'}, 'id': 'call_P711kjT4Z8eLzKHdsCLYEWUw', 'type': 'tool_call'}], usage_metadata={'input_tokens': 1445, 'output_tokens': 26, 'total_tokens': 1471, 'input_token_details': {'audio': 0, 'cache_read': 1408}, 'output_token_details': {'audio': 0, 'reasoning': 0}}),\n",
       "  ToolMessage(content='[{\"patient_name\": \"Rafael Barreira\", \"doctor_name\": \"Tony Miaga\", \"date\": \"2025-11-10\", \"time\": \"14:00\", \"status\": \"confirmed\"}]', name='_list_appointment_tool', id='8364ff63-c19e-4d7a-bb6d-117da673226c', tool_call_id='call_P711kjT4Z8eLzKHdsCLYEWUw'),\n",
       "  AIMessage(content='You currently have one appointment scheduled:\\n- With Doctor Tony Miaga on November 10, 2025, at 2:00 PM. Status: Confirmed.\\n\\nIf you need any more assistance, feel free to ask!', additional_kwargs={'refusal': None}, response_metadata={'token_usage': {'completion_tokens': 47, 'prompt_tokens': 1527, 'total_tokens': 1574, 'completion_tokens_details': {'accepted_prediction_tokens': 0, 'audio_tokens': 0, 'reasoning_tokens': 0, 'rejected_prediction_tokens': 0}, 'prompt_tokens_details': {'audio_tokens': 0, 'cached_tokens': 1408}}, 'model_name': 'gpt-4.1-mini-2025-04-14', 'system_fingerprint': 'fp_95d112f245', 'id': 'chatcmpl-CNr6U6tyDxI4tfre09N9EPLQvnRUl', 'service_tier': 'default', 'finish_reason': 'stop', 'logprobs': None}, id='run--848b392c-b69e-4b8f-bc57-18e765eef29c-0', usage_metadata={'input_tokens': 1527, 'output_tokens': 47, 'total_tokens': 1574, 'input_token_details': {'audio': 0, 'cache_read': 1408}, 'output_token_details': {'audio': 0, 'reasoning': 0}})]}"
      ]
     },
     "execution_count": 25,
     "metadata": {},
     "output_type": "execute_result"
    }
   ],
   "source": [
    "response"
   ]
  },
  {
   "cell_type": "code",
   "execution_count": null,
   "id": "f3b14e04",
   "metadata": {},
   "outputs": [],
   "source": []
  },
  {
   "cell_type": "code",
   "execution_count": null,
   "id": "555a3605",
   "metadata": {},
   "outputs": [],
   "source": []
  }
 ],
 "metadata": {
  "kernelspec": {
   "display_name": "luma",
   "language": "python",
   "name": "python3"
  },
  "language_info": {
   "codemirror_mode": {
    "name": "ipython",
    "version": 3
   },
   "file_extension": ".py",
   "mimetype": "text/x-python",
   "name": "python",
   "nbconvert_exporter": "python",
   "pygments_lexer": "ipython3",
   "version": "3.11.13"
  }
 },
 "nbformat": 4,
 "nbformat_minor": 5
}
